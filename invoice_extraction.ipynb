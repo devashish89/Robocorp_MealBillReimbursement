{
 "cells": [
  {
   "cell_type": "code",
   "execution_count": 1,
   "metadata": {},
   "outputs": [],
   "source": [
    "# !pip install veryfi\n",
    "\n",
    "from veryfi import Client\n",
    "\n",
    "# get your keys here: https://hub.veryfi.com/api/\n",
    "client_id = 'vrfECFE4RXYimuOKp1KurUncJ6eZJ7ziL0VSHBO'\n",
    "client_secret = 'BYYHDYwDWhWzrGlGh9AOhp0EZuDhvvm9wwBNti1WFojNCb7iscguwuWLTw9ce5zSynaDDukfrBXRd3BsiSM0pIMmMCSUm5MjS5lp0kolPffrd84C0rOHiBuvHxhjb2cv'\n",
    "username = 'devashish.nigam89'\n",
    "api_key = '4e9bd4234650aca58867b0e2c35ef794'\n",
    "\n",
    "veryfi_client = Client(client_id, client_secret, username, api_key)"
   ]
  },
  {
   "cell_type": "code",
   "execution_count": 2,
   "metadata": {},
   "outputs": [],
   "source": [
    "categories = ['Grocery', 'Utilities', 'Travel', 'Meals']\n",
    "# file_path = r\"C:\\Users\\91836\\Downloads\\Food Bill\\bill-converted.pdf\"\n",
    "file_path = r\"C:\\Users\\91836\\Downloads\\Food Bill\\Saturday lunch-2.pdf\"\n",
    "# This submits document for processing (takes 3-5 seconds to get response)\n",
    "\n",
    "response = veryfi_client.process_document(file_path, categories=categories)\n"
   ]
  },
  {
   "cell_type": "code",
   "execution_count": 3,
   "metadata": {},
   "outputs": [
    {
     "name": "stdout",
     "output_type": "stream",
     "text": [
      "[('cashback', 0.0), ('category', 'Meals & Entertainment'), ('created', '2021-06-25 11:12:18'), ('currency_code', 'INR'), ('date', '2021-03-27 15:23:00'), ('discount', 0.0), ('document_reference_number', 'F011152'), ('document_type', 'receipt'), ('duplicate_of', 37040937), ('id', 37084647), ('img_file_name', 'db0cd64e-7678-4ec2-9365-7918639273c0.pdf'), ('img_thumbnail_url', 'https://scdn.veryfi.com/receipts/db0cd64e-7678-4ec2-9365-7918639273c0_t.jpg?Expires=1624620438&Signature=D3z07oXL-Bw98R8N63ZdLVDjHzBrmdZrETf7hwG0ITT~sSqwIQRiONOwxhiB1ozeZxPpjW6uZ11zF~4h2uitZt3mvL6XERbFOthlrHYuzu~eQ32uj5PrfKo33y~8UCH11cQL8X1yusabWwICB2STofoofUAZT94DyWCPSIhw7z-SKSqCIw~ktUtzb4bK86p1VbDCBTm1zbk-Ys4FGS4Pm1hzgLKSBcRtWVugPuCDdolkAsdzukkuDsS7aGpjMbP6b2ZQjxoxNvU8LRjPPhc3n4TQJVD-BkbdHC~wvQuSYjetMBtWaHHwMFK4NDSnZewSbdBtSnwGFh5em7Iq72qkVQ__&Key-Pair-Id=APKAJCILBXEJFZF4DCHQ'), ('img_url', 'https://scdn.veryfi.com/receipts/db0cd64e-7678-4ec2-9365-7918639273c0.pdf?Expires=1624620438&Signature=KUG410l-olwGR4WFViEHrd115IL-iUbMANxrWDE3Nkg5X7Tk9b0SVedShxY5mXy1AB5h3xKR9qYFIiWW3GD-L7dD5~FuQq9mPuaUsMvw14q3LamlQscr1eGa8yQRuTROmh3MmvxQSp2FR6zTnXRDsz7jfMImitkT1MVFxmu-3r11X6NHs2JT3k8d95uXJPe9lmrFufqghUcPzLOIb9f5jy8GbsKcjY-DIiCfAzZdiDyfn1TAIagL7LVKWX75oUqdVdXm35TTeDi2c6OamonkihOM5lcuglZo1uYaokTmWq6wOKwNE~kgmT9PNjbZ-HgptnGFiAdtLLKJaPt9wEsCzw__&Key-Pair-Id=APKAJCILBXEJFZF4DCHQ'), ('is_duplicate', 1), ('line_items', [{'date': '', 'description': 'SINGING CHICKEN ON SIZZLER\\nFRIED RICE CHICXEN', 'discount': 0.0, 'end_date': '', 'hsn': '', 'id': 67604410, 'order': 0, 'price': 300.0, 'quantity': 1.0, 'reference': '', 'section': '', 'sku': '', 'start_date': '', 'tags': [], 'tax': 0.0, 'tax_rate': 0.0, 'total': 340.0, 'type': 'food', 'unit_of_measure': ''}, {'date': '', 'description': 'SOFT DRINKS / LIBE\\n/opy', 'discount': 0.0, 'end_date': '', 'hsn': '', 'id': 67604411, 'order': 1, 'price': 80.0, 'quantity': 1.0, 'reference': '', 'section': '', 'sku': '', 'start_date': '', 'tags': [], 'tax': 0.0, 'tax_rate': 0.0, 'total': 1020.0, 'type': 'food', 'unit_of_measure': ''}]), ('ocr_text', '\\n\\x0c\\tLarrab\\nZEN\\nB-25, Connaught Place, New Delhi - 110001\\nE: zencp1@gmail.com; W: www.zenrestaurant.in\\nTelephone:+91-11-23357444, +91-11-23357455 11\\na unit of K.S.HOTELS PVT. LTD.\\t47365\\nGST: 07AAACK4557B1ZU\\nSAC: 996331 Tin: 07330159031\\n\\tTorne\\nDATE\\tTIME\\tTABLE\\tSTWD\\tCOVERS\\tBILL NO.\\n2017\\n\\tF011152\\n27/03/21\\t15:23\\t022\\nDESCRIPTION\\tQTY. AMOUNT\\tDESCRIPTION\\tQTY.\\tAMOUNT\\n\\nSINGING CHICKEN ON SIZZLER\\tj\\t300.00\\tFRIED RICE CHICXEN\\t\\t340.00\\nSOFT DRINKS / LIBE\\t1 }\\t$80.00\\n\\n\\t1020,00\\n/opy\\n\\t102.00\\nS.Charge\\n\\t28.05\\nLES\\nCGST 2.5%\\n\\t28.05\\nSGST 2.5%\\n\\t11\\n\\nFOR\\n\\t1178.00\\n\\n\\tsk\\nII KOT NO. 0021477\\\\0021492\\n\\tE&OE\\n\\n\\tScanned with CamScanner\\nE-mail:zenep1@gmail.com\\n23718800\\nCALL\\nCOMPLALALT\\nANY\\n'), ('phone_number', '91-11-23357444'), ('rounding', 0.0), ('shipping', 0.0), ('subtotal', 0.0), ('tax', 28.05), ('tax_lines', [{'base': 0.0, 'name': 'CGST', 'order': 0, 'rate': 2.5, 'total': 28.05}]), ('tip', 0.0), ('total', 1178.0), ('updated', '2021-06-25 11:12:18'), ('vat_number', '07AAACK4557B1ZU'), ('vendor', {'address': 'B-25, Connaught Place, New Delhi - 110001', 'category': 'Restaurant', 'email': '', 'fax_number': '', 'name': 'ZEN', 'phone_number': '91-11-23357444', 'raw_name': 'ZEN', 'vendor_logo': 'https://cdn.veryfi.com/logos/tmp/543771981.png', 'vendor_reg_number': '', 'vendor_type': 'Restaurant', 'web': 'www.zenrestaurant.in'}), ('warnings', [])]\n"
     ]
    }
   ],
   "source": [
    "print([(key,response[key]) for key in response.keys() if response[key]!= ''])"
   ]
  },
  {
   "cell_type": "code",
   "execution_count": 37,
   "metadata": {},
   "outputs": [
    {
     "data": {
      "text/plain": [
       "(1178.0,\n",
       " '',\n",
       " 'ZEN',\n",
       " 'Restaurant',\n",
       " '07AAACK4557B1ZU',\n",
       " 'B-25, Connaught Place, New Delhi - 110001')"
      ]
     },
     "execution_count": 37,
     "metadata": {},
     "output_type": "execute_result"
    }
   ],
   "source": [
    "response['total'], response['invoice_number'], response['vendor']['name'], response['vendor']['category'], response['vat_number'], response['vendor']['address']"
   ]
  },
  {
   "cell_type": "code",
   "execution_count": 36,
   "metadata": {},
   "outputs": [
    {
     "name": "stdout",
     "output_type": "stream",
     "text": [
      "SINGING CHICKEN ON SIZZLER\n",
      "FRIED RICE CHICXEN 300.0 1.0 340.0\n",
      "SOFT DRINKS / LIBE\n",
      "/opy 80.0 1.0 1020.0\n"
     ]
    }
   ],
   "source": [
    "for item in response['line_items']:\n",
    "    print(item['description'], item['price'], item['quantity'], item['total'])"
   ]
  }
 ],
 "metadata": {
  "kernelspec": {
   "display_name": "Python 3",
   "language": "python",
   "name": "python3"
  },
  "language_info": {
   "codemirror_mode": {
    "name": "ipython",
    "version": 3
   },
   "file_extension": ".py",
   "mimetype": "text/x-python",
   "name": "python",
   "nbconvert_exporter": "python",
   "pygments_lexer": "ipython3",
   "version": "3.8.3"
  }
 },
 "nbformat": 4,
 "nbformat_minor": 4
}
